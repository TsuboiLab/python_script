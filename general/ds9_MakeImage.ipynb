{
 "cells": [
  {
   "cell_type": "markdown",
   "metadata": {},
   "source": [
    "### PythonでDS9を動かしたい人はぜひ参考にしてみてください。"
   ]
  },
  {
   "cell_type": "markdown",
   "metadata": {},
   "source": [
    "\"\"\"\n",
    "細かい設定やコマンドは以下のサイトで参照でできるよ\n",
    "http://ds9.si.edu/doc/ref/xpa.html#colorbar\n",
    "\n",
    "Created 2020/02/13(Tatsuki Sato)\n",
    "\"\"\"\n"
   ]
  },
  {
   "cell_type": "markdown",
   "metadata": {},
   "source": [
    "# Import"
   ]
  },
  {
   "cell_type": "code",
   "execution_count": 21,
   "metadata": {},
   "outputs": [],
   "source": [
    "import pyds9\n",
    "import os\n",
    "import glob\n",
    "import time"
   ]
  },
  {
   "cell_type": "markdown",
   "metadata": {},
   "source": [
    "# Input"
   ]
  },
  {
   "cell_type": "code",
   "execution_count": 22,
   "metadata": {},
   "outputs": [],
   "source": [
    "PWD=os.getcwd()\n",
    "FNAME=glob.glob('*10.0keV_rbn.img*')[0]\n",
    "path = PWD + \"/\" +FNAME\n",
    "root, ext = os.path.splitext(FNAME)"
   ]
  },
  {
   "cell_type": "markdown",
   "metadata": {},
   "source": [
    "# DS9 & Output"
   ]
  },
  {
   "cell_type": "code",
   "execution_count": 38,
   "metadata": {},
   "outputs": [
    {
     "data": {
      "text/plain": [
       "1"
      ]
     },
     "execution_count": 38,
     "metadata": {},
     "output_type": "execute_result"
    }
   ],
   "source": [
    "#ds9起動\n",
    "d = pyds9.DS9()\n",
    "time.sleep(2)\n",
    "#調整\n",
    "d.set(\"view colorbar no\")\n",
    "d.set(\"cmap value 1 .5\")\n",
    "d.set(\"smooth\")\n",
    "d.set(\"smooth radius 10\")\n",
    "d.set(\"smooth sigma 5\")\n",
    "d.set(\"scale squared\")\n",
    "d.set(\"cmap aips0\")\n",
    "#ファイル入力\n",
    "d.set(\"file %s\"%(path))\n",
    "#出力&終了\n",
    "d.set(\"saveimage png %s/%s.png\"%(PWD,root))\n",
    "d.set(\"exit\")"
   ]
  }
 ],
 "metadata": {
  "kernelspec": {
   "display_name": "Python 3",
   "language": "python",
   "name": "python3"
  },
  "language_info": {
   "codemirror_mode": {
    "name": "ipython",
    "version": 3
   },
   "file_extension": ".py",
   "mimetype": "text/x-python",
   "name": "python",
   "nbconvert_exporter": "python",
   "pygments_lexer": "ipython3",
   "version": "3.6.8"
  }
 },
 "nbformat": 4,
 "nbformat_minor": 2
}
